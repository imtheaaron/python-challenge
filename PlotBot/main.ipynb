{
 "cells": [
  {
   "cell_type": "code",
   "execution_count": 1,
   "metadata": {},
   "outputs": [],
   "source": [
    "#import libraries and dependencies\n",
    "\n",
    "import matplotlib.pyplot as plt\n",
    "import seaborn as sns\n",
    "import tweepy\n",
    "import pandas as pd\n",
    "\n",
    "from config import (\n",
    "    consumer_key,\n",
    "    consumer_secret,\n",
    "    access_token,\n",
    "    access_token_secret\n",
    "    )\n",
    "\n",
    "from vaderSentiment.vaderSentiment import SentimentIntensityAnalyzer\n",
    "analyzer = SentimentIntensityAnalyzer()\n",
    "\n",
    "auth = tweepy.OAuthHandler(consumer_key, consumer_secret)\n",
    "auth.set_access_token(access_token, access_token_secret)\n",
    "api = tweepy.API(auth, wait_on_rate_limit=True)"
   ]
  },
  {
   "cell_type": "code",
   "execution_count": 2,
   "metadata": {
    "collapsed": true
   },
   "outputs": [],
   "source": [
    "#initial variables\n",
    "\n",
    "search_id = 0\n",
    "botname = '@Spicy_Michelada'\n",
    "previous_analysis = ['test']\n",
    "already_searched = False\n",
    "running = 0"
   ]
  },
  {
   "cell_type": "code",
   "execution_count": null,
   "metadata": {
    "collapsed": true
   },
   "outputs": [],
   "source": [
    "#here is our whole program:\n",
    "\n",
    "while running != 0:\n",
    "    search_id = new_search_id\n",
    "    analysis_request()\n",
    "\n",
    "    if search_name[0] == '@':\n",
    "        check_previous()\n",
    "        \n",
    "    if already_searched = False:\n",
    "        previous_analysis.append(search_name)\n",
    "        account_analysis()\n",
    "        results_graphing()\n",
    "        results_tweeting()\n",
    "    else:\n",
    "        \n",
    "        \n",
    "        \n",
    "#insert the 5 min wait here."
   ]
  },
  {
   "cell_type": "code",
   "execution_count": 56,
   "metadata": {
    "scrolled": true
   },
   "outputs": [
    {
     "name": "stdout",
     "output_type": "stream",
     "text": [
      "cool\n",
      "@danharmon\n"
     ]
    },
    {
     "data": {
      "text/plain": [
       "'Mon'"
      ]
     },
     "execution_count": 56,
     "metadata": {},
     "output_type": "execute_result"
    }
   ],
   "source": [
    "#cell 1 to test things:\n",
    "\n",
    "tweet = api.search(q=botname, count=1, parser=tweepy.parsers.JSONParser())\n",
    "tweet_text = tweet['statuses'][0]['text']\n",
    "text_list = tweet_text.split()\n",
    "if text_list[1] == 'Analyze:':\n",
    "    print('cool')\n",
    "    search_name = text_list[2]\n",
    "    print(search_name)\n",
    "date = tweet['statuses'][0]['created_at']\n",
    "date = date.split()\n",
    "request_date = date[:3]\n",
    "request_date[0]"
   ]
  },
  {
   "cell_type": "code",
   "execution_count": 52,
   "metadata": {},
   "outputs": [],
   "source": [
    "#cell 2 to test things:\n",
    "n_tweets = 1\n",
    "for status in tweepy.Cursor(api.user_timeline, id='@danharmon').items(n_tweets):\n",
    "    tweet=status._json"
   ]
  },
  {
   "cell_type": "code",
   "execution_count": 5,
   "metadata": {},
   "outputs": [
    {
     "ename": "NameError",
     "evalue": "name 'search_name' is not defined",
     "output_type": "error",
     "traceback": [
      "\u001b[1;31m---------------------------------------------------------------------------\u001b[0m",
      "\u001b[1;31mNameError\u001b[0m                                 Traceback (most recent call last)",
      "\u001b[1;32m<ipython-input-5-f731bcfd776a>\u001b[0m in \u001b[0;36m<module>\u001b[1;34m()\u001b[0m\n\u001b[0;32m     18\u001b[0m \u001b[0mpoo\u001b[0m \u001b[1;33m=\u001b[0m \u001b[0manalysis_request\u001b[0m\u001b[1;33m(\u001b[0m\u001b[1;33m)\u001b[0m\u001b[1;33m\u001b[0m\u001b[0m\n\u001b[0;32m     19\u001b[0m \u001b[0mpoo\u001b[0m\u001b[1;33m\u001b[0m\u001b[0m\n\u001b[1;32m---> 20\u001b[1;33m \u001b[0msearch_name\u001b[0m\u001b[1;33m\u001b[0m\u001b[0m\n\u001b[0m",
      "\u001b[1;31mNameError\u001b[0m: name 'search_name' is not defined"
     ]
    }
   ],
   "source": [
    "#create a function to scan for relevant tweets directed at this bot - \n",
    "#format is @Spicy_Michelada Analyze: @CNN <-- so the tweets need to took like this.\n",
    "\n",
    "#do a search (we're going to search for only the most recent item)\n",
    "def analysis_request():\n",
    "    tweet_search = api.search(q=botname, since_id=search_id, parser=tweepy.parsers.JSONParser(), \n",
    "                              count=1)\n",
    "    new_search_id = tweet_search['statuses'][0]['id']\n",
    "    tweet_text = tweet_search['statuses'][0]['text']\n",
    "    text_list = tweet_text.split()\n",
    "    if text_list[1] == 'Analyze:':\n",
    "        search_name = text_list[2]\n",
    "        #get the date of the tweet request to use for later in the plot title\n",
    "        date = tweet_search['statuses'][0]['created_at']\n",
    "        date = date.split()\n",
    "        request_date = date[:3]\n",
    "\n",
    "analysis_request()"
   ]
  },
  {
   "cell_type": "code",
   "execution_count": 69,
   "metadata": {},
   "outputs": [
    {
     "name": "stdout",
     "output_type": "stream",
     "text": [
      "Hold on while we perform an analysis of that account.\n"
     ]
    }
   ],
   "source": [
    "#check to see if that account has been analyzed before - tweet either \"analyzing\" or \"sorry, we've already\n",
    "#done an analysis on that account\"\n",
    "\n",
    "def check_previous():\n",
    "    for user in previous_analysis:\n",
    "        if user == search_name:\n",
    "            print('Sorry, that account has already been analyzed.')\n",
    "            api.update_status('Sorry, that account has already been analyzed.')\n",
    "            already_searched = True\n",
    "        else:\n",
    "            already_searched = False\n",
    "            api.update_status(f'Hold on while we perform an analysis of the account {search_name}.')\n",
    "            print('Hold on while we perform an analysis of that account.')\n",
    "            \n",
    "            \n",
    "check_previous()"
   ]
  },
  {
   "cell_type": "code",
   "execution_count": 78,
   "metadata": {},
   "outputs": [
    {
     "data": {
      "text/plain": [
       "[{'contributors': None,\n",
       "  'coordinates': None,\n",
       "  'created_at': 'Mon Apr 09 01:12:20 +0000 2018',\n",
       "  'entities': {'hashtags': [],\n",
       "   'symbols': [],\n",
       "   'urls': [],\n",
       "   'user_mentions': [{'id': 982709303868981248,\n",
       "     'id_str': '982709303868981248',\n",
       "     'indices': [0, 16],\n",
       "     'name': 'Spicy Michelada with Prawns',\n",
       "     'screen_name': 'Spicy_Michelada'},\n",
       "    {'id': 18708466,\n",
       "     'id_str': '18708466',\n",
       "     'indices': [26, 36],\n",
       "     'name': 'Dan Harmon',\n",
       "     'screen_name': 'danharmon'}]},\n",
       "  'favorite_count': 0,\n",
       "  'favorited': False,\n",
       "  'geo': None,\n",
       "  'id': 983150585489702913,\n",
       "  'id_str': '983150585489702913',\n",
       "  'in_reply_to_screen_name': 'Spicy_Michelada',\n",
       "  'in_reply_to_status_id': None,\n",
       "  'in_reply_to_status_id_str': None,\n",
       "  'in_reply_to_user_id': 982709303868981248,\n",
       "  'in_reply_to_user_id_str': '982709303868981248',\n",
       "  'is_quote_status': False,\n",
       "  'lang': 'en',\n",
       "  'metadata': {'iso_language_code': 'en', 'result_type': 'recent'},\n",
       "  'place': None,\n",
       "  'retweet_count': 0,\n",
       "  'retweeted': False,\n",
       "  'source': '<a href=\"http://twitter.com/download/android\" rel=\"nofollow\">Twitter for Android</a>',\n",
       "  'text': '@Spicy_Michelada Analyze: @danharmon',\n",
       "  'truncated': False,\n",
       "  'user': {'contributors_enabled': False,\n",
       "   'created_at': 'Thu Oct 19 05:32:20 +0000 2017',\n",
       "   'default_profile': True,\n",
       "   'default_profile_image': False,\n",
       "   'description': \"Tweets from the small conscience trapped in The Donald's brain.\",\n",
       "   'entities': {'description': {'urls': []}},\n",
       "   'favourites_count': 1,\n",
       "   'follow_request_sent': False,\n",
       "   'followers_count': 0,\n",
       "   'following': False,\n",
       "   'friends_count': 41,\n",
       "   'geo_enabled': False,\n",
       "   'has_extended_profile': False,\n",
       "   'id': 920885304914984960,\n",
       "   'id_str': '920885304914984960',\n",
       "   'is_translation_enabled': False,\n",
       "   'is_translator': False,\n",
       "   'lang': 'en',\n",
       "   'listed_count': 0,\n",
       "   'location': '',\n",
       "   'name': \"TheDonald's Brain\",\n",
       "   'notifications': False,\n",
       "   'profile_background_color': 'F5F8FA',\n",
       "   'profile_background_image_url': None,\n",
       "   'profile_background_image_url_https': None,\n",
       "   'profile_background_tile': False,\n",
       "   'profile_image_url': 'http://pbs.twimg.com/profile_images/920891371963105281/2fzn1iGf_normal.jpg',\n",
       "   'profile_image_url_https': 'https://pbs.twimg.com/profile_images/920891371963105281/2fzn1iGf_normal.jpg',\n",
       "   'profile_link_color': '1DA1F2',\n",
       "   'profile_sidebar_border_color': 'C0DEED',\n",
       "   'profile_sidebar_fill_color': 'DDEEF6',\n",
       "   'profile_text_color': '333333',\n",
       "   'profile_use_background_image': True,\n",
       "   'protected': False,\n",
       "   'screen_name': 'trappedintrump',\n",
       "   'statuses_count': 6,\n",
       "   'time_zone': None,\n",
       "   'translator_type': 'none',\n",
       "   'url': None,\n",
       "   'utc_offset': None,\n",
       "   'verified': False}}]"
      ]
     },
     "execution_count": 78,
     "metadata": {},
     "output_type": "execute_result"
    }
   ],
   "source": [
    "#pull 500 tweets from the account and use Vader to analyze while looping through them.\n",
    "#create a df with the compound, and also a list with \"tweets ago\" which can be just x from each loop - subtracting 1 for each\n",
    "#loop.\n",
    "\n",
    "def account_analysis():\n",
    "    n_tweets = 10\n",
    "    x = 0\n",
    "    tweets_ago_list = []\n",
    "    compound_list = []\n",
    "    for status in tweepy.Cursor(api.user_timeline, id=search_name).items(n_tweets):\n",
    "        tweet = status._json\n",
    "        tweets_ago = x\n",
    "        x = x-1\n",
    "        results = analyzer.polarity_scores(tweet[\"text\"])\n",
    "        compound = results[\"compound\"]\n",
    "        compound_list.append(compound)\n",
    "        tweets_ago_list.append(tweets_ago)\n",
    "\n",
    "account_analysis()\n",
    "tweet['statuses']"
   ]
  },
  {
   "cell_type": "code",
   "execution_count": 74,
   "metadata": {},
   "outputs": [
    {
     "ename": "NameError",
     "evalue": "name 'tweets_ago_list' is not defined",
     "output_type": "error",
     "traceback": [
      "\u001b[1;31m---------------------------------------------------------------------------\u001b[0m",
      "\u001b[1;31mNameError\u001b[0m                                 Traceback (most recent call last)",
      "\u001b[1;32m<ipython-input-74-dc91cf43a8ff>\u001b[0m in \u001b[0;36m<module>\u001b[1;34m()\u001b[0m\n\u001b[1;32m----> 1\u001b[1;33m \u001b[0mtweets_ago_list\u001b[0m\u001b[1;33m\u001b[0m\u001b[0m\n\u001b[0m",
      "\u001b[1;31mNameError\u001b[0m: name 'tweets_ago_list' is not defined"
     ]
    }
   ],
   "source": [
    "tweets_ago_list"
   ]
  },
  {
   "cell_type": "code",
   "execution_count": null,
   "metadata": {
    "collapsed": true
   },
   "outputs": [],
   "source": [
    "#graph the results and format the graph with the date pulled (which is the current date - we should be able to get the date\n",
    "#from the request tweet asking for analysis)\n",
    "#include the name of the analyzed account in the graph as part of the title (use a f string f\"string text {variable})\n",
    "\n",
    "#create a dataframe of the list, and then sort it to make sure that it is ascending? descending?\n",
    "\n",
    "def results_graphing():\n",
    "    sns.set()\n",
    "    df = pd.DataFrame({\n",
    "        'Tweet Polarity': compound_list,\n",
    "        'Tweets Ago': tweets_ago_list\n",
    "    })\n",
    "    \n",
    "    df.sort_values(on='Tweets Ago', ascending=False)\n",
    "\n",
    "    plt.scatter(x=df['Tweets Ago'], y=df['Tweet Polarity'], facecolor='blue', color='k')\n",
    "    plt.Title(f'Sentiment Analysis of Tweets ({request_date[0]} {request_date[1]} request_date{2})')\n",
    "    plt.xlabel('Tweets Ago')\n",
    "    plt.ylabel('Tweet Polarity')\n",
    "    plt.show()\n",
    "    \n",
    "    #probably will have to save the image now to be able to tweet it out"
   ]
  },
  {
   "cell_type": "code",
   "execution_count": null,
   "metadata": {
    "collapsed": true
   },
   "outputs": [],
   "source": [
    "#tweet out the resultant graph\n",
    "\n",
    "def results_tweeting():\n",
    "    "
   ]
  }
 ],
 "metadata": {
  "kernelspec": {
   "display_name": "Python 3",
   "language": "python",
   "name": "python3"
  },
  "language_info": {
   "codemirror_mode": {
    "name": "ipython",
    "version": 3
   },
   "file_extension": ".py",
   "mimetype": "text/x-python",
   "name": "python",
   "nbconvert_exporter": "python",
   "pygments_lexer": "ipython3",
   "version": "3.6.3"
  }
 },
 "nbformat": 4,
 "nbformat_minor": 2
}
