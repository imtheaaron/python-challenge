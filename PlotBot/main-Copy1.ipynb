{
 "cells": [
  {
   "cell_type": "code",
   "execution_count": 1,
   "metadata": {
    "collapsed": true
   },
   "outputs": [],
   "source": [
    "#import libraries and dependencies\n",
    "\n",
    "import matplotlib.pyplot as plt\n",
    "import seaborn as sns\n",
    "import tweepy\n",
    "import pandas as pd\n",
    "\n",
    "from config import (\n",
    "    consumer_key,\n",
    "    consumer_secret,\n",
    "    access_token,\n",
    "    access_token_secret\n",
    "    )\n",
    "\n",
    "from vaderSentiment.vaderSentiment import SentimentIntensityAnalyzer\n",
    "analyzer = SentimentIntensityAnalyzer()\n",
    "\n",
    "auth = tweepy.OAuthHandler(consumer_key, consumer_secret)\n",
    "auth.set_access_token(access_token, access_token_secret)\n",
    "api = tweepy.API(auth, wait_on_rate_limit=True)"
   ]
  },
  {
   "cell_type": "code",
   "execution_count": 2,
   "metadata": {
    "collapsed": true
   },
   "outputs": [],
   "source": [
    "#initial variables\n",
    "\n",
    "search_id = 0\n",
    "botname = '@Spicy_Michelada'\n",
    "previous_analysis = ['test']\n",
    "already_searched = False\n",
    "running = 0"
   ]
  },
  {
   "cell_type": "code",
   "execution_count": null,
   "metadata": {
    "collapsed": true
   },
   "outputs": [],
   "source": [
    "#here is our whole program:\n",
    "\n",
    "while running != 0:\n",
    "    analysis_request()\n",
    "\n",
    "    if search_name[0] == '@':\n",
    "        check_previous()\n",
    "        \n",
    "    if already_searched = False:\n",
    "        previous_analysis.append(search_name)\n",
    "        account_analysis()\n",
    "        results_graphing()\n",
    "        results_tweeting()\n",
    "    else:\n",
    "        \n",
    "        \n",
    "        \n",
    "#insert the 5 min wait here."
   ]
  },
  {
   "cell_type": "code",
   "execution_count": 56,
   "metadata": {
    "scrolled": true
   },
   "outputs": [
    {
     "name": "stdout",
     "output_type": "stream",
     "text": [
      "cool\n",
      "@danharmon\n"
     ]
    },
    {
     "data": {
      "text/plain": [
       "'Mon'"
      ]
     },
     "execution_count": 56,
     "metadata": {},
     "output_type": "execute_result"
    }
   ],
   "source": [
    "#cell 1 to test things:\n",
    "\n",
    "tweet = api.search(q=botname, count=1, parser=tweepy.parsers.JSONParser())\n",
    "tweet_text = tweet['statuses'][0]['text']\n",
    "text_list = tweet_text.split()\n",
    "if text_list[1] == 'Analyze:':\n",
    "    print('cool')\n",
    "    search_name = text_list[2]\n",
    "    print(search_name)\n",
    "date = tweet['statuses'][0]['created_at']\n",
    "date = date.split()\n",
    "request_date = date[:3]\n",
    "request_date[0]"
   ]
  },
  {
   "cell_type": "code",
   "execution_count": 52,
   "metadata": {
    "collapsed": true
   },
   "outputs": [],
   "source": [
    "#cell 2 to test things:\n",
    "n_tweets = 1\n",
    "for status in tweepy.Cursor(api.user_timeline, id='@danharmon').items(n_tweets):\n",
    "    tweet=status._json"
   ]
  },
  {
   "cell_type": "code",
   "execution_count": 3,
   "metadata": {},
   "outputs": [
    {
     "data": {
      "text/plain": [
       "'@danharmon'"
      ]
     },
     "execution_count": 3,
     "metadata": {},
     "output_type": "execute_result"
    }
   ],
   "source": [
    "#create a function to scan for relevant tweets directed at this bot - \n",
    "#format is @Spicy_Michelada Analyze: @CNN <-- so the tweets need to took like this.\n",
    "\n",
    "#do a search (we're going to search for only the most recent item)\n",
    "tweet_search = api.search(q=botname, since_id=search_id, parser=tweepy.parsers.JSONParser(), \n",
    "                              count=1)\n",
    "search_id = tweet_search['statuses'][0]['id']\n",
    "tweet_text = tweet_search['statuses'][0]['text']\n",
    "text_list = tweet_text.split()\n",
    "if text_list[1] == 'Analyze:':\n",
    "    search_name = text_list[2]\n",
    "        #get the date of the tweet request to use for later in the plot title\n",
    "    date = tweet_search['statuses'][0]['created_at']\n",
    "    date = date.split()\n",
    "    request_date = date[:3]\n",
    "\n",
    "search_name"
   ]
  },
  {
   "cell_type": "code",
   "execution_count": 5,
   "metadata": {},
   "outputs": [
    {
     "name": "stdout",
     "output_type": "stream",
     "text": [
      "Hold on while we perform an analysis of that account.\n"
     ]
    }
   ],
   "source": [
    "#check to see if that account has been analyzed before - tweet either \"analyzing\" or \"sorry, we've already\n",
    "#done an analysis on that account\"\n",
    "\n",
    "#def check_previous():\n",
    "for user in previous_analysis:\n",
    "    if user == search_name:\n",
    "        print('Sorry, that account has already been analyzed.')\n",
    "        api.update_status('Sorry, that account has already been analyzed.')\n",
    "        already_searched = True\n",
    "    else:\n",
    "        already_searched = False\n",
    "        api.update_status(f'Hold on while we perform an analysis of the account {search_name}.')\n",
    "        print('Hold on while we perform an analysis of that account.')\n",
    "            \n",
    "            \n"
   ]
  },
  {
   "cell_type": "code",
   "execution_count": 6,
   "metadata": {},
   "outputs": [
    {
     "data": {
      "text/plain": [
       "[0.8687, 0.4588, -0.2263, 0.0129, -0.2023, 0.4184, 0.4019, 0.1531, 0.0, 0.4019]"
      ]
     },
     "execution_count": 6,
     "metadata": {},
     "output_type": "execute_result"
    }
   ],
   "source": [
    "#pull 500 tweets from the account and use Vader to analyze while looping through them.\n",
    "#create a df with the compound, and also a list with \"tweets ago\" which can be just x from each loop - subtracting 1 for each\n",
    "#loop.\n",
    "\n",
    "#def account_analysis():\n",
    "n_tweets = 10\n",
    "x = 0\n",
    "tweets_ago_list = []\n",
    "compound_list = []\n",
    "for status in tweepy.Cursor(api.user_timeline, id=search_name).items(n_tweets):\n",
    "    tweet = status._json\n",
    "    tweets_ago = x\n",
    "    x = x-1\n",
    "    results = analyzer.polarity_scores(tweet[\"text\"])\n",
    "    compound = results[\"compound\"]\n",
    "    compound_list.append(compound)\n",
    "    tweets_ago_list.append(tweets_ago)\n",
    "\n",
    "compound_list"
   ]
  },
  {
   "cell_type": "code",
   "execution_count": 11,
   "metadata": {},
   "outputs": [
    {
     "data": {
      "text/html": [
       "<div>\n",
       "<style>\n",
       "    .dataframe thead tr:only-child th {\n",
       "        text-align: right;\n",
       "    }\n",
       "\n",
       "    .dataframe thead th {\n",
       "        text-align: left;\n",
       "    }\n",
       "\n",
       "    .dataframe tbody tr th {\n",
       "        vertical-align: top;\n",
       "    }\n",
       "</style>\n",
       "<table border=\"1\" class=\"dataframe\">\n",
       "  <thead>\n",
       "    <tr style=\"text-align: right;\">\n",
       "      <th></th>\n",
       "      <th>Tweet Polarity</th>\n",
       "      <th>Tweets Ago</th>\n",
       "    </tr>\n",
       "  </thead>\n",
       "  <tbody>\n",
       "    <tr>\n",
       "      <th>9</th>\n",
       "      <td>0.4019</td>\n",
       "      <td>-9</td>\n",
       "    </tr>\n",
       "    <tr>\n",
       "      <th>8</th>\n",
       "      <td>0.0000</td>\n",
       "      <td>-8</td>\n",
       "    </tr>\n",
       "    <tr>\n",
       "      <th>7</th>\n",
       "      <td>0.1531</td>\n",
       "      <td>-7</td>\n",
       "    </tr>\n",
       "    <tr>\n",
       "      <th>6</th>\n",
       "      <td>0.4019</td>\n",
       "      <td>-6</td>\n",
       "    </tr>\n",
       "    <tr>\n",
       "      <th>5</th>\n",
       "      <td>0.4184</td>\n",
       "      <td>-5</td>\n",
       "    </tr>\n",
       "    <tr>\n",
       "      <th>4</th>\n",
       "      <td>-0.2023</td>\n",
       "      <td>-4</td>\n",
       "    </tr>\n",
       "    <tr>\n",
       "      <th>3</th>\n",
       "      <td>0.0129</td>\n",
       "      <td>-3</td>\n",
       "    </tr>\n",
       "    <tr>\n",
       "      <th>2</th>\n",
       "      <td>-0.2263</td>\n",
       "      <td>-2</td>\n",
       "    </tr>\n",
       "    <tr>\n",
       "      <th>1</th>\n",
       "      <td>0.4588</td>\n",
       "      <td>-1</td>\n",
       "    </tr>\n",
       "    <tr>\n",
       "      <th>0</th>\n",
       "      <td>0.8687</td>\n",
       "      <td>0</td>\n",
       "    </tr>\n",
       "  </tbody>\n",
       "</table>\n",
       "</div>"
      ],
      "text/plain": [
       "   Tweet Polarity  Tweets Ago\n",
       "9          0.4019          -9\n",
       "8          0.0000          -8\n",
       "7          0.1531          -7\n",
       "6          0.4019          -6\n",
       "5          0.4184          -5\n",
       "4         -0.2023          -4\n",
       "3          0.0129          -3\n",
       "2         -0.2263          -2\n",
       "1          0.4588          -1\n",
       "0          0.8687           0"
      ]
     },
     "execution_count": 11,
     "metadata": {},
     "output_type": "execute_result"
    }
   ],
   "source": [
    "df = pd.DataFrame({\n",
    "    'Tweet Polarity': compound_list,\n",
    "    'Tweets Ago': tweets_ago_list\n",
    "    })\n",
    "    \n",
    "df = df.sort_values(by='Tweets Ago', ascending=True)\n",
    "df"
   ]
  },
  {
   "cell_type": "code",
   "execution_count": 22,
   "metadata": {},
   "outputs": [
    {
     "data": {
      "image/png": "[encoded data removed]",
      "text/plain": [
       "<matplotlib.figure.Figure at 0x2b9e987f2b0>"
      ]
     },
     "metadata": {},
     "output_type": "display_data"
    }
   ],
   "source": [
    "#graph the results and format the graph with the date pulled (which is the current date - we should be able to get the date\n",
    "#from the request tweet asking for analysis)\n",
    "#include the name of the analyzed account in the graph as part of the title (use a f string f\"string text {variable})\n",
    "\n",
    "#create a dataframe of the list, and then sort it to make sure that it is ascending? descending?\n",
    "\n",
    "#def results_graphing():\n",
    "\n",
    "\n",
    "\n",
    "sns.set()\n",
    "plt.scatter(x=df['Tweets Ago'], y=df['Tweet Polarity'], facecolor='red', color='k')\n",
    "plt.title(f'Sentiment Analysis of {search_name} Tweets ({request_date[0]} {request_date[1]} {request_date[2]})')\n",
    "plt.xlabel('Tweets Ago')\n",
    "plt.ylabel('Tweet Polarity')\n",
    "plt.show()\n",
    "    \n",
    "    #probably will have to save the image now to be able to tweet it out"
   ]
  },
  {
   "cell_type": "code",
   "execution_count": null,
   "metadata": {
    "collapsed": true
   },
   "outputs": [],
   "source": [
    "#tweet out the resultant graph\n",
    "\n",
    "#def results_tweeting():\n",
    "\n",
    "\n"
   ]
  }
 ],
 "metadata": {
  "kernelspec": {
   "display_name": "Python 3",
   "language": "python",
   "name": "python3"
  },
  "language_info": {
   "codemirror_mode": {
    "name": "ipython",
    "version": 3
   },
   "file_extension": ".py",
   "mimetype": "text/x-python",
   "name": "python",
   "nbconvert_exporter": "python",
   "pygments_lexer": "ipython3",
   "version": "3.6.3"
  }
 },
 "nbformat": 4,
 "nbformat_minor": 2
}
